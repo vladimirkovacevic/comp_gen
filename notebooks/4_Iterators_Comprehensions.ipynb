{
 "cells": [
  {
   "cell_type": "markdown",
   "metadata": {},
   "source": [
    "# Iterators, comprehensions and generators\n",
    "\n",
    "## List comprehensions\n",
    "\n",
    "In the session on functional programming, we were defining lists. E.g. the result of calling `get_at()` on each element of `dna_list`:"
   ]
  },
  {
   "cell_type": "code",
   "execution_count": 1,
   "metadata": {
    "collapsed": false
   },
   "outputs": [
    {
     "data": {
      "text/plain": [
       "[0.5, 0.5, 0.6666666666666666, 0.375]"
      ]
     },
     "execution_count": 1,
     "metadata": {},
     "output_type": "execute_result"
    }
   ],
   "source": [
    "from __future__ import division\n",
    "\n",
    "def get_at(dna): \n",
    "    return (dna.count('A') + dna.count('T')) / len(dna) \n",
    "\n",
    "dna_list = ['TAGC', 'ACGTATGC', 'ATG', 'ACGGCTAG'] \n",
    "map(get_at, dna_list) "
   ]
  },
  {
   "cell_type": "markdown",
   "metadata": {},
   "source": [
    "The elements of `dna_list` which are at least 4 bases long: "
   ]
  },
  {
   "cell_type": "code",
   "execution_count": 2,
   "metadata": {
    "collapsed": false
   },
   "outputs": [
    {
     "data": {
      "text/plain": [
       "['TAGC', 'ACGTATGC', 'ACGGCTAG']"
      ]
     },
     "execution_count": 2,
     "metadata": {},
     "output_type": "execute_result"
    }
   ],
   "source": [
    "filter(lambda x: len(x) > 3, dna_list)"
   ]
  },
  {
   "cell_type": "markdown",
   "metadata": {},
   "source": [
    "Python has a special syntax for defining lists called **list comprehensions**. Here's the list of lengths of the DNA sequences in three ways:"
   ]
  },
  {
   "cell_type": "code",
   "execution_count": 5,
   "metadata": {
    "collapsed": false
   },
   "outputs": [
    {
     "data": {
      "text/plain": [
       "[4, 8, 3, 8]"
      ]
     },
     "execution_count": 5,
     "metadata": {},
     "output_type": "execute_result"
    }
   ],
   "source": [
    "# with a loop\n",
    "\n",
    "l1 = []\n",
    "for dna in dna_list:\n",
    "    l1.append(len(dna))\n",
    "    \n",
    "# with a map\n",
    "l2 = map(len, dna_list)\n",
    "\n",
    "# as a list comprehension\n",
    "l3 = [len(dna) for dna in dna_list]\n",
    "\n",
    "assert l1 == l2\n",
    "assert l1 == l3\n",
    "l3"
   ]
  },
  {
   "cell_type": "markdown",
   "metadata": {},
   "source": [
    "Another examples: AT contents"
   ]
  },
  {
   "cell_type": "code",
   "execution_count": 4,
   "metadata": {
    "collapsed": false
   },
   "outputs": [
    {
     "data": {
      "text/plain": [
       "[0.5, 0.5, 0.6666666666666666, 0.375]"
      ]
     },
     "execution_count": 4,
     "metadata": {},
     "output_type": "execute_result"
    }
   ],
   "source": [
    "# with a map\n",
    "l1 = map(get_at, dna_list)\n",
    "\n",
    "# as a list comprehension\n",
    "l2 = [get_at(dna) for dna in dna_list]\n",
    "\n",
    "assert l1 == l2\n",
    "l1"
   ]
  },
  {
   "cell_type": "markdown",
   "metadata": {},
   "source": [
    "But what if we don't have `get_at()` defined? "
   ]
  },
  {
   "cell_type": "code",
   "execution_count": 6,
   "metadata": {
    "collapsed": false
   },
   "outputs": [],
   "source": [
    "# with a map\n",
    "l1 = map(lambda dna : (dna.count('A') + dna.count('T')) / len(dna), dna_list)\n",
    "\n",
    "# as a list comprehension\n",
    "l2 = [(dna.count('A') + dna.count('T')) / len(dna) for dna in dna_list]\n",
    "\n",
    "assert l1 == l2"
   ]
  },
  {
   "cell_type": "markdown",
   "metadata": {},
   "source": [
    "The list comprehension allows us to express the transformation without having to write either a function or a lambda expression. \n",
    "\n",
    "List comprehensions can also have conditions:"
   ]
  },
  {
   "cell_type": "code",
   "execution_count": 7,
   "metadata": {
    "collapsed": false
   },
   "outputs": [
    {
     "data": {
      "text/plain": [
       "[4, 8, 3]"
      ]
     },
     "execution_count": 7,
     "metadata": {},
     "output_type": "execute_result"
    }
   ],
   "source": [
    "[len(dna) for dna in dna_list if get_at(dna) >= 0.5]"
   ]
  },
  {
   "cell_type": "markdown",
   "metadata": {},
   "source": [
    "This allows us to effectively do a map+filter all in one go. More readably:"
   ]
  },
  {
   "cell_type": "code",
   "execution_count": 8,
   "metadata": {
    "collapsed": false
   },
   "outputs": [
    {
     "data": {
      "text/plain": [
       "[4, 8, 3]"
      ]
     },
     "execution_count": 8,
     "metadata": {},
     "output_type": "execute_result"
    }
   ],
   "source": [
    "[len(dna) \n",
    " for dna in dna_list \n",
    " if get_at(dna) >= 0.5]"
   ]
  },
  {
   "cell_type": "markdown",
   "metadata": {},
   "source": [
    "List comprehensions can be very concise. They can operate on any iterable type, not just a list - E.g. get a list of all FASTA headers:"
   ]
  },
  {
   "cell_type": "code",
   "execution_count": 9,
   "metadata": {
    "collapsed": false
   },
   "outputs": [
    {
     "data": {
      "text/plain": [
       "['normal_sequence',\n",
       " 'sequence_in_lowercase',\n",
       " 'sequence_with_unknown_bases',\n",
       " 'this header contains spaces',\n",
       " 'this_header_is_very_long_and_should_be_truncated',\n",
       " 'some_gene']"
      ]
     },
     "execution_count": 9,
     "metadata": {},
     "output_type": "execute_result"
    }
   ],
   "source": [
    "# using sequences.fasta from previous exercise\n",
    "[line[1:].rstrip(\"\\n\") for line in open('sequences.fasta') if line.startswith('>')]"
   ]
  },
  {
   "cell_type": "markdown",
   "metadata": {},
   "source": [
    "This will become very interesting when we start to talk about iterables later on. \n",
    "\n",
    "List comprehensions can be nested, which is just like using nested `for` loops. To generate all possible dinucleotides:"
   ]
  },
  {
   "cell_type": "code",
   "execution_count": 10,
   "metadata": {
    "collapsed": false
   },
   "outputs": [
    {
     "data": {
      "text/plain": [
       "['AA',\n",
       " 'AT',\n",
       " 'AG',\n",
       " 'AC',\n",
       " 'TA',\n",
       " 'TT',\n",
       " 'TG',\n",
       " 'TC',\n",
       " 'GA',\n",
       " 'GT',\n",
       " 'GG',\n",
       " 'GC',\n",
       " 'CA',\n",
       " 'CT',\n",
       " 'CG',\n",
       " 'CC']"
      ]
     },
     "execution_count": 10,
     "metadata": {},
     "output_type": "execute_result"
    }
   ],
   "source": [
    "bases = ['A', 'T', 'G', 'C']\n",
    "[base1 + base2 for base1 in bases for base2 in bases]"
   ]
  },
  {
   "cell_type": "markdown",
   "metadata": {},
   "source": [
    "Needless to say, this can get complicated very quickly. \n",
    "\n",
    "Closely related to list comprehensions are **generator expressions**. A generator expression is just a list comprehension with round brackets rather than square ones:"
   ]
  },
  {
   "cell_type": "code",
   "execution_count": 11,
   "metadata": {
    "collapsed": false
   },
   "outputs": [
    {
     "name": "stdout",
     "output_type": "stream",
     "text": [
      "4\n",
      "8\n",
      "3\n",
      "8\n"
     ]
    }
   ],
   "source": [
    "lengths = (len(dna) for dna in dna_list)\n",
    "for l in lengths:\n",
    "    print(l)"
   ]
  },
  {
   "cell_type": "markdown",
   "metadata": {},
   "source": [
    "The only difference is that generator expressions are **lazy** i.e. they only calculate the elements as they are needed. This can save a lot of memory since we don't have create the whole list. E.g. our previous example of getting FASTA headers creates a list in memory, but if we change to a generator:"
   ]
  },
  {
   "cell_type": "code",
   "execution_count": 12,
   "metadata": {
    "collapsed": false
   },
   "outputs": [],
   "source": [
    "headers = (line[1:] for line in open('sequences.fasta') if line.startswith('>'))\n"
   ]
  },
  {
   "cell_type": "code",
   "execution_count": 13,
   "metadata": {
    "collapsed": false
   },
   "outputs": [
    {
     "data": {
      "text/plain": [
       "'normal_sequence\\n'"
      ]
     },
     "execution_count": 13,
     "metadata": {},
     "output_type": "execute_result"
    }
   ],
   "source": [
    "headers.next()"
   ]
  },
  {
   "cell_type": "markdown",
   "metadata": {},
   "source": [
    "Then we are only dealing with a single element at a time. To prove it:"
   ]
  },
  {
   "cell_type": "code",
   "execution_count": 16,
   "metadata": {
    "collapsed": false
   },
   "outputs": [
    {
     "name": "stdout",
     "output_type": "stream",
     "text": [
      "1000 loops, best of 3: 976 µs per loop\n"
     ]
    }
   ],
   "source": [
    "%%timeit\n",
    "l = [2 ** x for x in range(1000)]\n",
    "l"
   ]
  },
  {
   "cell_type": "code",
   "execution_count": 17,
   "metadata": {
    "collapsed": false
   },
   "outputs": [
    {
     "name": "stdout",
     "output_type": "stream",
     "text": [
      "The slowest run took 6.18 times longer than the fastest. This could mean that an intermediate result is being cached.\n",
      "100000 loops, best of 3: 6.18 µs per loop\n"
     ]
    }
   ],
   "source": [
    "%%timeit \n",
    "l = (2 ** x for x in range(1000))"
   ]
  },
  {
   "cell_type": "markdown",
   "metadata": {},
   "source": [
    "## Dict comprehensions\n",
    "\n",
    "Just like we often write loops to create lists (which we can replace with map/filter or list comprehensions), we often write loops to create dicts:"
   ]
  },
  {
   "cell_type": "code",
   "execution_count": 18,
   "metadata": {
    "collapsed": false
   },
   "outputs": [
    {
     "data": {
      "text/plain": [
       "{'ACGGCTAG': 0.375, 'ACGTATGC': 0.5, 'ATG': 0.6666666666666666, 'TAGC': 0.5}"
      ]
     },
     "execution_count": 18,
     "metadata": {},
     "output_type": "execute_result"
    }
   ],
   "source": [
    "d = {}\n",
    "for dna in dna_list:\n",
    "    d[dna] = get_at(dna)\n",
    "d"
   ]
  },
  {
   "cell_type": "markdown",
   "metadata": {},
   "source": [
    "Dict comprehensions allow us to express these more compactly:"
   ]
  },
  {
   "cell_type": "code",
   "execution_count": 19,
   "metadata": {
    "collapsed": false
   },
   "outputs": [
    {
     "data": {
      "text/plain": [
       "{'ACGGCTAG': 0.375, 'ACGTATGC': 0.5, 'ATG': 0.6666666666666666, 'TAGC': 0.5}"
      ]
     },
     "execution_count": 19,
     "metadata": {},
     "output_type": "execute_result"
    }
   ],
   "source": [
    "d = { dna : get_at(dna) for dna in dna_list }\n",
    "d"
   ]
  },
  {
   "cell_type": "markdown",
   "metadata": {},
   "source": [
    "This only works for very simple dicts i.e. when we can describe an item with a single expression (`x : get_at(x)`). It wouldn't work for our kmer counting example because that requires us to update the dict. \n",
    "\n",
    "One very common use: creating an index for a list of complex objects. Think back to our list-of-tuples DNA records from the session on data structures:"
   ]
  },
  {
   "cell_type": "code",
   "execution_count": 20,
   "metadata": {
    "collapsed": true
   },
   "outputs": [],
   "source": [
    "records = [\n",
    "    ('actgctagt', 'ABC123', 1),\n",
    "    ('ttaggttta', 'XYZ456', 1),\n",
    "    ('cgcgatcgt', 'HIJ789', 5)\n",
    "]"
   ]
  },
  {
   "cell_type": "markdown",
   "metadata": {},
   "source": [
    "Using a dict comprehension we can quickly create a dict where the keys are the accession number and the values are the tuples themselves:"
   ]
  },
  {
   "cell_type": "code",
   "execution_count": 21,
   "metadata": {
    "collapsed": false
   },
   "outputs": [
    {
     "data": {
      "text/plain": [
       "{'ABC123': ('actgctagt', 'ABC123', 1),\n",
       " 'HIJ789': ('cgcgatcgt', 'HIJ789', 5),\n",
       " 'XYZ456': ('ttaggttta', 'XYZ456', 1)}"
      ]
     },
     "execution_count": 21,
     "metadata": {},
     "output_type": "execute_result"
    }
   ],
   "source": [
    "index = {r[1] : r for r in records}\n",
    "index"
   ]
  },
  {
   "cell_type": "markdown",
   "metadata": {},
   "source": [
    "Which (as we saw before) allows us to very quickly look up the complete record if we know the accession:"
   ]
  },
  {
   "cell_type": "code",
   "execution_count": 22,
   "metadata": {
    "collapsed": false
   },
   "outputs": [
    {
     "data": {
      "text/plain": [
       "('cgcgatcgt', 'HIJ789', 5)"
      ]
     },
     "execution_count": 22,
     "metadata": {},
     "output_type": "execute_result"
    }
   ],
   "source": [
    "index['HIJ789']"
   ]
  },
  {
   "cell_type": "markdown",
   "metadata": {},
   "source": [
    "### Set comprehensions\n",
    "\n",
    "Mentioned for completeness. Curly brackets like a dict comprehension, but single elements rather than pairs:"
   ]
  },
  {
   "cell_type": "code",
   "execution_count": 39,
   "metadata": {
    "collapsed": false
   },
   "outputs": [
    {
     "data": {
      "text/plain": [
       "{0,\n",
       " 2,\n",
       " 4,\n",
       " 6,\n",
       " 8,\n",
       " 10,\n",
       " 12,\n",
       " 14,\n",
       " 16,\n",
       " 18,\n",
       " 20,\n",
       " 22,\n",
       " 24,\n",
       " 26,\n",
       " 28,\n",
       " 30,\n",
       " 32,\n",
       " 34,\n",
       " 36,\n",
       " 38,\n",
       " 40,\n",
       " 42,\n",
       " 44,\n",
       " 46,\n",
       " 48,\n",
       " 50,\n",
       " 52,\n",
       " 54,\n",
       " 56,\n",
       " 58,\n",
       " 60,\n",
       " 62,\n",
       " 64,\n",
       " 66,\n",
       " 68,\n",
       " 70,\n",
       " 72,\n",
       " 74,\n",
       " 76,\n",
       " 78,\n",
       " 80,\n",
       " 82,\n",
       " 84,\n",
       " 86,\n",
       " 88,\n",
       " 90,\n",
       " 92,\n",
       " 94,\n",
       " 96,\n",
       " 98,\n",
       " 100,\n",
       " 102,\n",
       " 104,\n",
       " 106,\n",
       " 108,\n",
       " 110,\n",
       " 112,\n",
       " 114,\n",
       " 116,\n",
       " 118,\n",
       " 120,\n",
       " 122,\n",
       " 124,\n",
       " 126,\n",
       " 128,\n",
       " 130,\n",
       " 132,\n",
       " 134,\n",
       " 136,\n",
       " 138,\n",
       " 140,\n",
       " 142,\n",
       " 144,\n",
       " 146,\n",
       " 148,\n",
       " 150,\n",
       " 152,\n",
       " 154,\n",
       " 156,\n",
       " 158,\n",
       " 160,\n",
       " 162,\n",
       " 164,\n",
       " 166,\n",
       " 168,\n",
       " 170,\n",
       " 172,\n",
       " 174,\n",
       " 176,\n",
       " 178,\n",
       " 180,\n",
       " 182,\n",
       " 184,\n",
       " 186,\n",
       " 188,\n",
       " 190,\n",
       " 192,\n",
       " 194,\n",
       " 196,\n",
       " 198,\n",
       " 200,\n",
       " 202,\n",
       " 204,\n",
       " 206,\n",
       " 208,\n",
       " 210,\n",
       " 212,\n",
       " 214,\n",
       " 216,\n",
       " 218,\n",
       " 220,\n",
       " 222,\n",
       " 224,\n",
       " 226,\n",
       " 228,\n",
       " 230,\n",
       " 232,\n",
       " 234,\n",
       " 236,\n",
       " 238,\n",
       " 240,\n",
       " 242,\n",
       " 244,\n",
       " 246,\n",
       " 248,\n",
       " 250,\n",
       " 252,\n",
       " 254,\n",
       " 256,\n",
       " 258,\n",
       " 260,\n",
       " 262,\n",
       " 264,\n",
       " 266,\n",
       " 268,\n",
       " 270,\n",
       " 272,\n",
       " 274,\n",
       " 276,\n",
       " 278,\n",
       " 280,\n",
       " 282,\n",
       " 284,\n",
       " 286,\n",
       " 288,\n",
       " 290,\n",
       " 292,\n",
       " 294,\n",
       " 296,\n",
       " 298,\n",
       " 300,\n",
       " 302,\n",
       " 304,\n",
       " 306,\n",
       " 308,\n",
       " 310,\n",
       " 312,\n",
       " 314,\n",
       " 316,\n",
       " 318,\n",
       " 320,\n",
       " 322,\n",
       " 324,\n",
       " 326,\n",
       " 328,\n",
       " 330,\n",
       " 332,\n",
       " 334,\n",
       " 336,\n",
       " 338,\n",
       " 340,\n",
       " 342,\n",
       " 344,\n",
       " 346,\n",
       " 348,\n",
       " 350,\n",
       " 352,\n",
       " 354,\n",
       " 356,\n",
       " 358,\n",
       " 360,\n",
       " 362,\n",
       " 364,\n",
       " 366,\n",
       " 368,\n",
       " 370,\n",
       " 372,\n",
       " 374,\n",
       " 376,\n",
       " 378,\n",
       " 380,\n",
       " 382,\n",
       " 384,\n",
       " 386,\n",
       " 388,\n",
       " 390,\n",
       " 392,\n",
       " 394,\n",
       " 396,\n",
       " 398,\n",
       " 400,\n",
       " 402,\n",
       " 404,\n",
       " 406,\n",
       " 408,\n",
       " 410,\n",
       " 412,\n",
       " 414,\n",
       " 416,\n",
       " 418,\n",
       " 420,\n",
       " 422,\n",
       " 424,\n",
       " 426,\n",
       " 428,\n",
       " 430,\n",
       " 432,\n",
       " 434,\n",
       " 436,\n",
       " 438,\n",
       " 440,\n",
       " 442,\n",
       " 444,\n",
       " 446,\n",
       " 448,\n",
       " 450,\n",
       " 452,\n",
       " 454,\n",
       " 456,\n",
       " 458,\n",
       " 460,\n",
       " 462,\n",
       " 464,\n",
       " 466,\n",
       " 468,\n",
       " 470,\n",
       " 472,\n",
       " 474,\n",
       " 476,\n",
       " 478,\n",
       " 480,\n",
       " 482,\n",
       " 484,\n",
       " 486,\n",
       " 488,\n",
       " 490,\n",
       " 492,\n",
       " 494,\n",
       " 496,\n",
       " 498,\n",
       " 500,\n",
       " 502,\n",
       " 504,\n",
       " 506,\n",
       " 508,\n",
       " 510,\n",
       " 512,\n",
       " 514,\n",
       " 516,\n",
       " 518,\n",
       " 520,\n",
       " 522,\n",
       " 524,\n",
       " 526,\n",
       " 528,\n",
       " 530,\n",
       " 532,\n",
       " 534,\n",
       " 536,\n",
       " 538,\n",
       " 540,\n",
       " 542,\n",
       " 544,\n",
       " 546,\n",
       " 548,\n",
       " 550,\n",
       " 552,\n",
       " 554,\n",
       " 556,\n",
       " 558,\n",
       " 560,\n",
       " 562,\n",
       " 564,\n",
       " 566,\n",
       " 568,\n",
       " 570,\n",
       " 572,\n",
       " 574,\n",
       " 576,\n",
       " 578,\n",
       " 580,\n",
       " 582,\n",
       " 584,\n",
       " 586,\n",
       " 588,\n",
       " 590,\n",
       " 592,\n",
       " 594,\n",
       " 596,\n",
       " 598,\n",
       " 600,\n",
       " 602,\n",
       " 604,\n",
       " 606,\n",
       " 608,\n",
       " 610,\n",
       " 612,\n",
       " 614,\n",
       " 616,\n",
       " 618,\n",
       " 620,\n",
       " 622,\n",
       " 624,\n",
       " 626,\n",
       " 628,\n",
       " 630,\n",
       " 632,\n",
       " 634,\n",
       " 636,\n",
       " 638,\n",
       " 640,\n",
       " 642,\n",
       " 644,\n",
       " 646,\n",
       " 648,\n",
       " 650,\n",
       " 652,\n",
       " 654,\n",
       " 656,\n",
       " 658,\n",
       " 660,\n",
       " 662,\n",
       " 664,\n",
       " 666,\n",
       " 668,\n",
       " 670,\n",
       " 672,\n",
       " 674,\n",
       " 676,\n",
       " 678,\n",
       " 680,\n",
       " 682,\n",
       " 684,\n",
       " 686,\n",
       " 688,\n",
       " 690,\n",
       " 692,\n",
       " 694,\n",
       " 696,\n",
       " 698,\n",
       " 700,\n",
       " 702,\n",
       " 704,\n",
       " 706,\n",
       " 708,\n",
       " 710,\n",
       " 712,\n",
       " 714,\n",
       " 716,\n",
       " 718,\n",
       " 720,\n",
       " 722,\n",
       " 724,\n",
       " 726,\n",
       " 728,\n",
       " 730,\n",
       " 732,\n",
       " 734,\n",
       " 736,\n",
       " 738,\n",
       " 740,\n",
       " 742,\n",
       " 744,\n",
       " 746,\n",
       " 748,\n",
       " 750,\n",
       " 752,\n",
       " 754,\n",
       " 756,\n",
       " 758,\n",
       " 760,\n",
       " 762,\n",
       " 764,\n",
       " 766,\n",
       " 768,\n",
       " 770,\n",
       " 772,\n",
       " 774,\n",
       " 776,\n",
       " 778,\n",
       " 780,\n",
       " 782,\n",
       " 784,\n",
       " 786,\n",
       " 788,\n",
       " 790,\n",
       " 792,\n",
       " 794,\n",
       " 796,\n",
       " 798,\n",
       " 800,\n",
       " 802,\n",
       " 804,\n",
       " 806,\n",
       " 808,\n",
       " 810,\n",
       " 812,\n",
       " 814,\n",
       " 816,\n",
       " 818,\n",
       " 820,\n",
       " 822,\n",
       " 824,\n",
       " 826,\n",
       " 828,\n",
       " 830,\n",
       " 832,\n",
       " 834,\n",
       " 836,\n",
       " 838,\n",
       " 840,\n",
       " 842,\n",
       " 844,\n",
       " 846,\n",
       " 848,\n",
       " 850,\n",
       " 852,\n",
       " 854,\n",
       " 856,\n",
       " 858,\n",
       " 860,\n",
       " 862,\n",
       " 864,\n",
       " 866,\n",
       " 868,\n",
       " 870,\n",
       " 872,\n",
       " 874,\n",
       " 876,\n",
       " 878,\n",
       " 880,\n",
       " 882,\n",
       " 884,\n",
       " 886,\n",
       " 888,\n",
       " 890,\n",
       " 892,\n",
       " 894,\n",
       " 896,\n",
       " 898,\n",
       " 900,\n",
       " 902,\n",
       " 904,\n",
       " 906,\n",
       " 908,\n",
       " 910,\n",
       " 912,\n",
       " 914,\n",
       " 916,\n",
       " 918,\n",
       " 920,\n",
       " 922,\n",
       " 924,\n",
       " 926,\n",
       " 928,\n",
       " 930,\n",
       " 932,\n",
       " 934,\n",
       " 936,\n",
       " 938,\n",
       " 940,\n",
       " 942,\n",
       " 944,\n",
       " 946,\n",
       " 948,\n",
       " 950,\n",
       " 952,\n",
       " 954,\n",
       " 956,\n",
       " 958,\n",
       " 960,\n",
       " 962,\n",
       " 964,\n",
       " 966,\n",
       " 968,\n",
       " 970,\n",
       " 972,\n",
       " 974,\n",
       " 976,\n",
       " 978,\n",
       " 980,\n",
       " 982,\n",
       " 984,\n",
       " 986,\n",
       " 988,\n",
       " 990,\n",
       " 992,\n",
       " 994,\n",
       " 996,\n",
       " 998}"
      ]
     },
     "execution_count": 39,
     "metadata": {},
     "output_type": "execute_result"
    }
   ],
   "source": [
    "even_integers = {x for x in range(1000) if x % 2 == 0}\n",
    "# same as...\n",
    "#even_integers == set((x for x in range(1000) if x % 2 == 0))\n",
    "even_integers"
   ]
  },
  {
   "cell_type": "markdown",
   "metadata": {},
   "source": [
    "## Iterators and generators\n",
    "\n",
    "Iterable types are very useful in Python:\n",
    "- we can iterate over them, obviously\n",
    "- we can turn them into lists\n",
    "- we can use map/filter/sort on them\n",
    "- we can use them in various types of comprehensions\n",
    "\n",
    "We already know about a bunch of iterable types:\n",
    "- lists\n",
    "- sets\n",
    "- tuples\n",
    "- strings (as characters)\n",
    "- File objects (as lines)\n",
    "- generator expressions \n",
    "\n",
    "And about methods that return iterable types:\n",
    "- re.finditer()\n",
    "- dict.items()\n",
    "- map() in Python 3\n",
    "- range() in Python 3\n",
    "\n",
    "### How do we create our own iterable data types?\n",
    "\n",
    "Short story: to make a class iterable, we have to give it a special method called `__iter__()` which returns an iterator. When we want to iterate over a class that is already iterable e.g. a string we can get the iterator by calling the `iter()` function. \n",
    "\n",
    "Say we want to make it possible to iterate over a `DNARecord` object:\n"
   ]
  },
  {
   "cell_type": "code",
   "execution_count": 23,
   "metadata": {
    "collapsed": true
   },
   "outputs": [],
   "source": [
    "class DNARecord(object): \n",
    "    \n",
    "    def __init__(self, sequence, gene_name, species_name):\n",
    "        self.sequence = sequence\n",
    "        self.gene_name = gene_name\n",
    "        self.species_name = species_name\n",
    "        \n",
    "d1 = DNARecord('ATATAT', 'COX1', 'Homo sapiens')"
   ]
  },
  {
   "cell_type": "markdown",
   "metadata": {},
   "source": [
    "We can't do this:"
   ]
  },
  {
   "cell_type": "code",
   "execution_count": 24,
   "metadata": {
    "collapsed": false
   },
   "outputs": [
    {
     "ename": "TypeError",
     "evalue": "'DNARecord' object is not iterable",
     "output_type": "error",
     "traceback": [
      "\u001b[1;31m---------------------------------------------------------------------------\u001b[0m",
      "\u001b[1;31mTypeError\u001b[0m                                 Traceback (most recent call last)",
      "\u001b[1;32m<ipython-input-24-8b1ae7cf8aa4>\u001b[0m in \u001b[0;36m<module>\u001b[1;34m()\u001b[0m\n\u001b[1;32m----> 1\u001b[1;33m \u001b[1;32mfor\u001b[0m \u001b[0mbase\u001b[0m \u001b[1;32min\u001b[0m \u001b[0md1\u001b[0m\u001b[1;33m:\u001b[0m\u001b[1;33m\u001b[0m\u001b[0m\n\u001b[0m\u001b[0;32m      2\u001b[0m     \u001b[1;32mprint\u001b[0m\u001b[1;33m(\u001b[0m\u001b[0mbase\u001b[0m\u001b[1;33m)\u001b[0m\u001b[1;33m\u001b[0m\u001b[0m\n",
      "\u001b[1;31mTypeError\u001b[0m: 'DNARecord' object is not iterable"
     ]
    }
   ],
   "source": [
    "for base in d1:\n",
    "    print(base)"
   ]
  },
  {
   "cell_type": "markdown",
   "metadata": {},
   "source": [
    "We have to do this:"
   ]
  },
  {
   "cell_type": "code",
   "execution_count": 25,
   "metadata": {
    "collapsed": false
   },
   "outputs": [
    {
     "name": "stdout",
     "output_type": "stream",
     "text": [
      "A\n",
      "T\n",
      "A\n",
      "T\n",
      "A\n",
      "T\n"
     ]
    }
   ],
   "source": [
    "for base in d1.sequence:\n",
    "    print(base)"
   ]
  },
  {
   "cell_type": "markdown",
   "metadata": {},
   "source": [
    "This is not the worst thing in the world, but it requires more typing and ties us to a specific implementation of the `DNARecord` class (what happens if we want to change the name of the `sequence` variable?).\n",
    "\n",
    "To make it possible to iterate over the `DNARecord` object itself, we add the `__iter__()` method thus:"
   ]
  },
  {
   "cell_type": "code",
   "execution_count": 26,
   "metadata": {
    "collapsed": false
   },
   "outputs": [
    {
     "name": "stdout",
     "output_type": "stream",
     "text": [
      "A\n",
      "T\n",
      "A\n",
      "T\n",
      "A\n",
      "T\n",
      "T\n"
     ]
    }
   ],
   "source": [
    "class DNARecord(object): \n",
    "    \n",
    "    def __init__(self, sequence, gene_name, species_name):\n",
    "        self.dna_sequence = sequence\n",
    "        self.gene_name = gene_name\n",
    "        self.species_name = species_name\n",
    "    \n",
    "    def __iter__(self):\n",
    "        return iter(self.dna_sequence)   \n",
    "    \n",
    "d1 = DNARecord('ATATATT', 'COX1', 'Homo sapiens')\n",
    "\n",
    "for base in d1:\n",
    "    print(base)"
   ]
  },
  {
   "cell_type": "markdown",
   "metadata": {},
   "source": [
    "The `__iter__()` method here is very simple, it just calls `iter()` on the sequence to get an iterator, then returns it. In other words:\n",
    "\n",
    ">to iterate over a DNARecord, simply iterate over the sequence variable\n",
    "\n",
    "Now something more complicated: what if we want to iterate over **codons**? We cannot just grab the string iterator, so we must create our own. An iterator has a method called `next()` which has to follow two rules: either it returns the next value, or if it's at the end it raises a `StopIteration` exception (don't worry about exceptions). \n",
    "\n",
    "Here it is:"
   ]
  },
  {
   "cell_type": "code",
   "execution_count": 27,
   "metadata": {
    "collapsed": false
   },
   "outputs": [
    {
     "name": "stdout",
     "output_type": "stream",
     "text": [
      "ATC\n",
      "GTC\n",
      "GAC\n",
      "TGA\n",
      "CTA\n"
     ]
    }
   ],
   "source": [
    "class DNARecord(object): \n",
    "    position = 0\n",
    "    \n",
    "    def __init__(self, sequence, gene_name, species_name):\n",
    "        self.sequence = sequence\n",
    "        self.gene_name = gene_name\n",
    "        self.species_name = species_name\n",
    "    \n",
    "    def __iter__(self):\n",
    "        return self   \n",
    "    \n",
    "    def next(self): \n",
    "        if self.position < (len(self.sequence) - 2): \n",
    "            codon = self.sequence[self.position:self.position+3] \n",
    "            self.position += 3 \n",
    "            return codon \n",
    "        else: \n",
    "            self.position = 0\n",
    "            raise StopIteration  \n",
    "\n",
    "\n",
    "d1 = DNARecord('ATCGTCGACTGACTACG', 'COX1', 'Homo sapiens')\n",
    "\n",
    "for codon in d1:\n",
    "    print(codon)   \n"
   ]
  },
  {
   "cell_type": "markdown",
   "metadata": {},
   "source": [
    "Take a moment to look at the logic of the `next()` method. \n",
    "\n",
    "Note that:\n",
    "- the object now is responsible for keeping track of its position, so we need a `position` vaiable\n",
    "- the `next()` method checks to see if the position is more than three bases away from the end of the sequence\n",
    "- it updates the position each time it's called\n",
    "- when it gets to the end of the sequence it resets the position back to zero for the next time\n",
    "- we might miss incomplete codons from the end of the sequence\n",
    "- the `__iter__()` method returns the object itself\n",
    "\n",
    "Complicated stuff!\n",
    "\n",
    "**Aside: `next()` has been renamed to `__next__()` in Python 3. **\n",
    "\n",
    "The codon iteration stuff works but isn't great; ideally we'd like to be able to iterate over either bases or codons....\n",
    "\n",
    "## Digression: generators\n",
    "\n",
    "A generator (not to be confused with a generator expression above) is a function that calculates one value at a time. Instead of using `return()` to return the complete result, we use `yield()` to return a single value:\n"
   ]
  },
  {
   "cell_type": "code",
   "execution_count": 28,
   "metadata": {
    "collapsed": false
   },
   "outputs": [
    {
     "data": {
      "text/plain": [
       "['acga', 'cgat', 'gatc', 'atcg', 'tcga', 'cgat', 'gatg', 'atgc']"
      ]
     },
     "execution_count": 28,
     "metadata": {},
     "output_type": "execute_result"
    }
   ],
   "source": [
    "def get_4mers(dna):\n",
    "    result = [] \n",
    "    for i in range(len(dna) - 3): \n",
    "        result.append(dna[i:i+4]) \n",
    "    return result\n",
    "    print(\"hello\")\n",
    "\n",
    "get_4mers('acgatcgatgc')"
   ]
  },
  {
   "cell_type": "code",
   "execution_count": 29,
   "metadata": {
    "collapsed": false
   },
   "outputs": [
    {
     "data": {
      "text/plain": [
       "<generator object generate_4mers at 0x7fecec06af50>"
      ]
     },
     "execution_count": 29,
     "metadata": {},
     "output_type": "execute_result"
    }
   ],
   "source": [
    "def generate_4mers(dna): \n",
    "    for i in range(len(dna) - 3): \n",
    "        yield dna[i:i+4] \n",
    "        \n",
    "generate_4mers('acgatcgatgc')"
   ]
  },
  {
   "cell_type": "code",
   "execution_count": 30,
   "metadata": {
    "collapsed": false
   },
   "outputs": [],
   "source": [
    "x = generate_4mers('acgatcgatgc')"
   ]
  },
  {
   "cell_type": "code",
   "execution_count": 31,
   "metadata": {
    "collapsed": false
   },
   "outputs": [
    {
     "data": {
      "text/plain": [
       "'acga'"
      ]
     },
     "execution_count": 31,
     "metadata": {},
     "output_type": "execute_result"
    }
   ],
   "source": [
    "x.next()"
   ]
  },
  {
   "cell_type": "markdown",
   "metadata": {},
   "source": [
    "Generators are useful for all sorts of things. They are often more readable, they are very memory efficient as they only calculate one value at a time, and they are **iterators**. So we can do this:"
   ]
  },
  {
   "cell_type": "code",
   "execution_count": 32,
   "metadata": {
    "collapsed": false
   },
   "outputs": [
    {
     "name": "stdout",
     "output_type": "stream",
     "text": [
      "acga\n",
      "cgat\n",
      "gatc\n",
      "atcg\n",
      "tcga\n",
      "cgat\n",
      "gatg\n",
      "atgc\n"
     ]
    }
   ],
   "source": [
    "for fourmer in generate_4mers('acgatcgatgc'):\n",
    "    print(fourmer)"
   ]
  },
  {
   "cell_type": "markdown",
   "metadata": {},
   "source": [
    "and"
   ]
  },
  {
   "cell_type": "code",
   "execution_count": 33,
   "metadata": {
    "collapsed": false
   },
   "outputs": [
    {
     "data": {
      "text/plain": [
       "['acga', 'cgat', 'gatc', 'atcg', 'tcga', 'cgat', 'gatg', 'atgc']"
      ]
     },
     "execution_count": 33,
     "metadata": {},
     "output_type": "execute_result"
    }
   ],
   "source": [
    "list(generate_4mers('acgatcgatgc'))"
   ]
  },
  {
   "cell_type": "markdown",
   "metadata": {},
   "source": [
    "and we can use them to implement clever iteration behaviour in our classes:"
   ]
  },
  {
   "cell_type": "code",
   "execution_count": 34,
   "metadata": {
    "collapsed": true
   },
   "outputs": [],
   "source": [
    "class DNARecord(object): \n",
    "    \n",
    "    def __init__(self, sequence, gene_name, species_name):\n",
    "        self.sequence = sequence\n",
    "        self.gene_name = gene_name\n",
    "        self.species_name = species_name\n",
    "    \n",
    "   \n",
    "    def kmers(self, k=1):\n",
    "        for i in range(len(self.sequence) - k +1): \n",
    "            yield self.sequence[i:i+k] \n",
    "            "
   ]
  },
  {
   "cell_type": "code",
   "execution_count": 35,
   "metadata": {
    "collapsed": false
   },
   "outputs": [
    {
     "data": {
      "text/plain": [
       "[0.6, 0.4, 0.2, 0.4, 0.4, 0.4, 0.4, 0.6, 0.4, 0.6, 0.6, 0.6, 0.4]"
      ]
     },
     "execution_count": 35,
     "metadata": {},
     "output_type": "execute_result"
    }
   ],
   "source": [
    "d1 = DNARecord('ATCGTCGACTGACTACG', 'COX1', 'Homo sapiens')\n",
    "\n",
    "#for base in d1.bases():\n",
    "#    print(base)\n",
    "    \n",
    "[get_at(kmer) for kmer in d1.kmers(5)]"
   ]
  },
  {
   "cell_type": "markdown",
   "metadata": {},
   "source": [
    "## Exercises\n",
    "\n",
    "### BLAST processor\n",
    "\n",
    "As a warm up, take your solutions to the BLAST processing exercise from the Functional Programming session and rewrite them to just use list comprehensions.\n",
    "\n",
    "### Primer search\n",
    "\n",
    "Write a function that will create a list of all possible PCR primers of a given length. \n",
    "\n",
    "Hint: start with the kmer-generating function from the session on recursion. \n",
    "Further hint: *all possible PCR primers of a given length* simply means all possible DNA sequnces of a given length. In the real world we would do some filtering on the results to find sequences with similarity to the target, melting points, etc. \n",
    "\n",
    "For length l there are \n",
    "\n",
    "$$4^l$$\n",
    "\n",
    "possible primers so eventually you will run out of memory when trying to list them all. Rewrite your function as a generator to get around this problem. \n",
    "\n",
    "Finally, write a generator which will generate all possible pairs of primers. For length l there will be \n",
    "\n",
    "$$(4^l)^2$$\n",
    "\n",
    "possible pairs, so if you try to do this with a normal function you will run out of memory even faster!"
   ]
  },
  {
   "cell_type": "code",
   "execution_count": 2,
   "metadata": {
    "collapsed": false
   },
   "outputs": [
    {
     "data": {
      "text/html": [
       "<style>\n",
       "@import url(http://fonts.googleapis.com/css?family=Vollkorn:400,400italic,700,700italic);\n",
       "\n",
       "div.output_text{\n",
       "        max-height:400px;\n",
       "        overflow:scroll;\n",
       "}\n",
       "\n",
       "div#notebook, div.output_text, div.rendered_html {\n",
       "  /* font-family: 'PT Serif' !important; */\n",
       "  font-family: 'Volkorn'; \n",
       "\n",
       "} \n",
       "\n",
       "div.CodeMirror, div.output_area pre, div.output_wrapper, div.prompt {\n",
       "  font-family: 'Source Code Pro', monospace !important;\n",
       "}\n",
       "\n",
       ".output_text {\n",
       "  background-color: #f0f0f0;\n",
       "}\n",
       "\n",
       "\n",
       ".prompt { display: none; }\n",
       "div.output_subarea { max-width: calc(100%); }\n",
       "</style>\n",
       "\n"
      ],
      "text/plain": [
       "<IPython.core.display.HTML object>"
      ]
     },
     "execution_count": 2,
     "metadata": {},
     "output_type": "execute_result"
    }
   ],
   "source": [
    "# ignore this cell, it's for loading custom css code\n",
    "from IPython.core.display import HTML\n",
    "HTML(filename=\"custom.css\")"
   ]
  },
  {
   "cell_type": "code",
   "execution_count": 3,
   "metadata": {
    "collapsed": false
   },
   "outputs": [
    {
     "data": {
      "application/javascript": [
       "\n",
       "function regentoc() {\n",
       "    document.getElementById(\"toc\").innerHTML = \"\";\n",
       "    var currenth2 = 0;\n",
       "    $(\"h2,h3\").not(\"#Contents\").each(function(mainIndex) {\n",
       "        el = $(this);\n",
       "        title = el.attr(\"id\");\n",
       "        text = el.html();\n",
       "        link = \"#\" + el.attr(\"id\");\n",
       "        if ( document.getElementById(title).tagName == \"H2\" ) {\n",
       "            currenth2 += 1;\n",
       "            newLine =\n",
       "                \"<li class='maintoc'>\" +\n",
       "                   \"<a href='\" + link + \"'>\" + text + \"</a>\" +\n",
       "                \"</li>\" +\n",
       "                \"<ul id='h2\" + currenth2 + \"'></ul>\";\n",
       "            document.getElementById(\"toc\").innerHTML += newLine;\n",
       "        } else if ( document.getElementById(title).tagName==\"H3\" ) {\n",
       "            h1list = document.getElementById(\"h2\"+currenth2);\n",
       "            newLine = \"<li class='subtoc'>\" + \"<a href='\" + link + \"'>\" + text + \"</a>\" + \"</li>\";\n",
       "            h1list.innerHTML += newLine;\n",
       "        }\n",
       "    });\n",
       "}\n",
       " \n",
       "setInterval(regentoc,1000);\n"
      ],
      "text/plain": [
       "<IPython.core.display.Javascript object>"
      ]
     },
     "execution_count": 3,
     "metadata": {},
     "output_type": "execute_result"
    }
   ],
   "source": [
    "# ignore this cell, it's for loading custom js code\n",
    "from IPython.core.display import Javascript\n",
    "Javascript(filename=\"custom.js\")"
   ]
  }
 ],
 "metadata": {
  "kernelspec": {
   "display_name": "Python 2",
   "language": "python",
   "name": "python2"
  },
  "language_info": {
   "codemirror_mode": {
    "name": "ipython",
    "version": 2
   },
   "file_extension": ".py",
   "mimetype": "text/x-python",
   "name": "python",
   "nbconvert_exporter": "python",
   "pygments_lexer": "ipython2",
   "version": "2.7.6"
  }
 },
 "nbformat": 4,
 "nbformat_minor": 0
}
