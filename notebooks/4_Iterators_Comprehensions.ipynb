{
 "metadata": {
  "kernelspec": {
   "display_name": "Python 3",
   "language": "python",
   "name": "python3"
  },
  "language_info": {
   "codemirror_mode": {
    "name": "ipython",
    "version": 3
   },
   "file_extension": ".py",
   "mimetype": "text/x-python",
   "name": "python",
   "nbconvert_exporter": "python",
   "pygments_lexer": "ipython3",
   "version": "3.4.3"
  },
  "name": ""
 },
 "nbformat": 3,
 "nbformat_minor": 0,
 "worksheets": [
  {
   "cells": [
    {
     "cell_type": "markdown",
     "metadata": {},
     "source": [
      "# Comprehensions \n",
      "\n",
      "## `map` and `filter`\n",
      "In the session on functional programming, we were defining lists. E.g. the result of calling `get_at()` on each element of `dna_list`:"
     ]
    },
    {
     "cell_type": "code",
     "collapsed": false,
     "input": [
      "def get_at(dna): \n",
      "    return (dna.count('A') + dna.count('T')) / len(dna) \n",
      "\n",
      "dna_list = ['TAGC', 'ACGTATGC', 'ATG', 'ACGGCTAG'] \n",
      "mp = map(get_at, dna_list)\n",
      "list(mp)\n"
     ],
     "language": "python",
     "metadata": {},
     "outputs": [],
     "prompt_number": 17
    },
    {
     "cell_type": "markdown",
     "metadata": {},
     "source": [
      "The elements of `dna_list` which are at least 4 bases long: "
     ]
    },
    {
     "cell_type": "code",
     "collapsed": false,
     "input": [
      "f = filter(lambda x: len(x) > 3, dna_list)\n",
      "list(f)"
     ],
     "language": "python",
     "metadata": {},
     "outputs": [],
     "prompt_number": 18
    },
    {
     "cell_type": "markdown",
     "metadata": {},
     "source": [
      "Notice that when using `map`, the items in the result are values returned by the function cube. \n",
      "`filter` is only used to determine if the value i should be kept in the result."
     ]
    },
    {
     "cell_type": "markdown",
     "metadata": {},
     "source": [
      "## List comprehensions\n",
      "Python has a special syntax for defining lists called **list comprehensions**. Here's the list of lengths of the DNA sequences in four ways:"
     ]
    },
    {
     "cell_type": "code",
     "collapsed": false,
     "input": [
      "dna_list = ['TAGC', 'ACGTATGC', 'ATG', 'ACGGCTAG'] \n",
      "# with a loop\n",
      "l1 = []\n",
      "for dna in dna_list:\n",
      "    l1.append(len(dna))\n",
      "    \n",
      "# with a map\n",
      "l2 = list(map(len, dna_list))\n",
      "\n",
      "# as a list comprehension\n",
      "l3 = [len(dna) for dna in dna_list]\n",
      "\n",
      "# C style: Ugly\n",
      "l4 = [0] * len(dna_list)\n",
      "for i in range(len(dna_list)):\n",
      "    print(i)\n",
      "    l4[i] = len(dna_list[i])\n",
      "    \n",
      "assert l1 == l2\n",
      "assert l1 == l3\n",
      "assert l1 == l4\n",
      "l3"
     ],
     "language": "python",
     "metadata": {},
     "outputs": [],
     "prompt_number": 35
    },
    {
     "cell_type": "markdown",
     "metadata": {},
     "source": [
      "List comprehensions can be very concise. They can operate on any iterable type, not just a list - E.g. get a list of all FASTA headers:"
     ]
    },
    {
     "cell_type": "code",
     "collapsed": false,
     "input": [
      "# using sequences.fasta from previous exercise\n",
      "[line[1:] for line in open('sequences.fasta') if line.startswith('>')]"
     ],
     "language": "python",
     "metadata": {},
     "outputs": [],
     "prompt_number": 36
    },
    {
     "cell_type": "markdown",
     "metadata": {},
     "source": [
      "## Dict comprehensions\n",
      "\n",
      "Just like we often write loops to create lists (which we can replace with map/filter or list comprehensions), we often write loops to create dicts:"
     ]
    },
    {
     "cell_type": "code",
     "collapsed": false,
     "input": [
      "d = {}\n",
      "for dna in dna_list:\n",
      "    d[dna] = get_at(dna)\n",
      "d"
     ],
     "language": "python",
     "metadata": {},
     "outputs": [],
     "prompt_number": 37
    },
    {
     "cell_type": "markdown",
     "metadata": {},
     "source": [
      "Dict comprehensions allow us to express these more compactly:"
     ]
    },
    {
     "cell_type": "code",
     "collapsed": false,
     "input": [
      "d = { dna : get_at(dna) for dna in dna_list }\n",
      "d"
     ],
     "language": "python",
     "metadata": {},
     "outputs": [],
     "prompt_number": 38
    },
    {
     "cell_type": "markdown",
     "metadata": {},
     "source": [
      "### Set comprehensions\n",
      "\n",
      "Mentioned for completeness. Curly brackets like a dict comprehension, but single elements rather than pairs:"
     ]
    },
    {
     "cell_type": "code",
     "collapsed": false,
     "input": [
      "even_integers = {x for x in range(1000) if x % 2 == 0}\n",
      "# same as...\n",
      "#even_integers == set((x for x in range(1000) if x % 2 == 0))\n",
      "even_integers"
     ],
     "language": "python",
     "metadata": {},
     "outputs": [],
     "prompt_number": 39
    },
    {
     "cell_type": "code",
     "collapsed": false,
     "input": [],
     "language": "python",
     "metadata": {},
     "outputs": [],
     "prompt_number": null
    },
    {
     "cell_type": "code",
     "collapsed": false,
     "input": [
      "# ignore this cell, it's for loading custom js code\n",
      "from IPython.core.display import Javascript\n",
      "Javascript(filename=\"custom.js\")"
     ],
     "language": "python",
     "metadata": {},
     "outputs": [],
     "prompt_number": 13
    },
    {
     "cell_type": "code",
     "collapsed": false,
     "input": [
      "# ignore this cell, it's for loading custom css code\n",
      "from IPython.core.display import HTML\n",
      "HTML(filename=\"custom.css\")"
     ],
     "language": "python",
     "metadata": {},
     "outputs": [],
     "prompt_number": 14
    },
    {
     "cell_type": "code",
     "collapsed": false,
     "input": [],
     "language": "python",
     "metadata": {},
     "outputs": [],
     "prompt_number": null
    }
   ],
   "metadata": {}
  }
 ]
}