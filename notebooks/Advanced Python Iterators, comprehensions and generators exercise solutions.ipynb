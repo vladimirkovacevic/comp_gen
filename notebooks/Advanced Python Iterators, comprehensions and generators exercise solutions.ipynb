{
 "cells": [
  {
   "cell_type": "markdown",
   "metadata": {},
   "source": [
    "<h1 id=\"toctitle\">Exercise solutions</h1>\n",
    "<ul id=\"toc\"/>"
   ]
  },
  {
   "cell_type": "markdown",
   "metadata": {},
   "source": [
    "##BLAST processor\n",
    "\n",
    "Let's look at the solutions side by side to see the difference between map/filter and comprehensions. \n",
    "\n",
    "First, filtering out comment lines:"
   ]
  },
  {
   "cell_type": "code",
   "execution_count": 1,
   "metadata": {
    "collapsed": true
   },
   "outputs": [],
   "source": [
    "# filtering out comment lines using a function and filter\n",
    "def comment_filter(line): \n",
    "    return not line.startswith('#') \n",
    "hit_lines = filter(comment_filter, open('blast_result.txt')) \n",
    "\n",
    "# filtering out comment lines using a list comprehension\n",
    "hit_lines = [l for l in open('blast_result.txt') if not l.startswith('#')]"
   ]
  },
  {
   "cell_type": "markdown",
   "metadata": {},
   "source": [
    "Selecting only the hit lines where the number of missmatches is less than 20:"
   ]
  },
  {
   "cell_type": "code",
   "execution_count": 3,
   "metadata": {
    "collapsed": false
   },
   "outputs": [
    {
     "name": "stdout",
     "output_type": "stream",
     "text": [
      "25\n",
      "25\n",
      "25\n"
     ]
    }
   ],
   "source": [
    "# selecting low-mismatch hits using a filter function\n",
    "def mismatch_filter(hit_string): \n",
    "    mismatch_count = int(hit_string.split(\"\\t\")[4]) \n",
    "    return mismatch_count < 20 \n",
    "f = filter(mismatch_filter, hit_lines) \n",
    "print(len(f)) \n",
    "\n",
    "# selecting low-mismatch hits using a list comprehension\n",
    "few_mismatch_hits = [line for line in hit_lines if int(line.split(\"\\t\")[4]) < 20 ]\n",
    "print(len(few_mismatch_hits))\n",
    "\n",
    "# same but more readable\n",
    "few_mismatch_hits = [\n",
    "    line\n",
    "    for line \n",
    "    in hit_lines \n",
    "    if int(line.split(\"\\t\")[4]) < 20 ]\n",
    "print(len(few_mismatch_hits))"
   ]
  },
  {
   "cell_type": "markdown",
   "metadata": {},
   "source": [
    "Second part: sort lists by percent id (will be the same), then take first ten and map to subject string:"
   ]
  },
  {
   "cell_type": "code",
   "execution_count": 5,
   "metadata": {
    "collapsed": false
   },
   "outputs": [
    {
     "name": "stdout",
     "output_type": "stream",
     "text": [
      "['gi|336287915|gb|AEI30246.1|', 'gi|336287919|gb|AEI30248.1|', 'gi|336287881|gb|AEI30229.1|', 'gi|336287897|gb|AEI30237.1|', 'gi|336287895|gb|AEI30236.1|', 'gi|336287917|gb|AEI30247.1|', 'gi|336287921|gb|AEI30249.1|', 'gi|336287923|gb|AEI30250.1|', 'gi|336287885|gb|AEI30231.1|', 'gi|336287889|gb|AEI30233.1|']\n",
      "['gi|336287915|gb|AEI30246.1|', 'gi|336287919|gb|AEI30248.1|', 'gi|336287881|gb|AEI30229.1|', 'gi|336287897|gb|AEI30237.1|', 'gi|336287895|gb|AEI30236.1|', 'gi|336287917|gb|AEI30247.1|', 'gi|336287921|gb|AEI30249.1|', 'gi|336287923|gb|AEI30250.1|', 'gi|336287885|gb|AEI30231.1|', 'gi|336287889|gb|AEI30233.1|']\n"
     ]
    }
   ],
   "source": [
    "# functions to get %is and subject \n",
    "def get_percent_id(hit_string): \n",
    "    return float(hit_string.split(\"\\t\")[2])\n",
    "def get_subject(hit_string): \n",
    "    return hit_string.split(\"\\t\")[1] \n",
    "\n",
    "hits_sorted_by_percent_id = sorted(hit_lines, key=get_percent_id) \n",
    "low_id_hits = hits_sorted_by_percent_id[0:10] \n",
    "print(map(get_subject, low_id_hits))\n",
    "\n",
    "# same using a list comprehension\n",
    "subjects = [ \n",
    "    l.split(\"\\t\")[1] \n",
    "    for l \n",
    "    in hits_sorted_by_percent_id[0:10] \n",
    "]\n",
    "print(subjects)"
   ]
  },
  {
   "cell_type": "markdown",
   "metadata": {},
   "source": [
    "Final part - we can filter and map in a single comprehension:"
   ]
  },
  {
   "cell_type": "code",
   "execution_count": 7,
   "metadata": {
    "collapsed": false
   },
   "outputs": [
    {
     "name": "stdout",
     "output_type": "stream",
     "text": [
      "[0.02262443438914027, 0.009009009009009009, 0.02262443438914027, 0.02262443438914027, 0.02262443438914027, 0.02262443438914027, 0.007797270955165692, 0.04308390022675737]\n"
     ]
    }
   ],
   "source": [
    "from __future__ import division\n",
    "# solution using filter and map\n",
    "# this requires the following two functions\n",
    "def cox1_filter(hit_string): \n",
    "    subject = hit_string.split(\"\\t\")[1] \n",
    "    if \"COX1\" in subject: \n",
    "        return True \n",
    "    else: \n",
    "        return False \n",
    "        \n",
    "def start_ratio(hit_string): \n",
    "    query_start = int(hit_string.split(\"\\t\")[6]) \n",
    "    hit_length = int(hit_string.split(\"\\t\")[3]) \n",
    "    return query_start / hit_length \n",
    "\n",
    "cox1_hits = filter(cox1_filter, hit_lines)\n",
    "print(map(start_ratio, cox1_hits))"
   ]
  },
  {
   "cell_type": "code",
   "execution_count": 8,
   "metadata": {
    "collapsed": false
   },
   "outputs": [
    {
     "name": "stdout",
     "output_type": "stream",
     "text": [
      "[0.02262443438914027, 0.009009009009009009, 0.02262443438914027, 0.02262443438914027, 0.02262443438914027, 0.02262443438914027, 0.007797270955165692, 0.04308390022675737]\n"
     ]
    }
   ],
   "source": [
    "# solution using a list comprehension\n",
    "# none of the functions above are used\n",
    "ratios = [ \n",
    "    int(l.split(\"\\t\")[6]) / int(l.split(\"\\t\")[3]) \n",
    "    for l in hit_lines \n",
    "    if \"COX1\" in l.split(\"\\t\")[1] \n",
    "] \n",
    "print(ratios) "
   ]
  },
  {
   "cell_type": "markdown",
   "metadata": {},
   "source": [
    "##Primer search\n",
    "\n",
    "It doesn't matter what approach we use to generate the kmers. Let's reuse the recursive one we've seen before:\n",
    "\n"
   ]
  },
  {
   "cell_type": "code",
   "execution_count": 9,
   "metadata": {
    "collapsed": true
   },
   "outputs": [],
   "source": [
    "def generate_primers(length): \n",
    "    if length == 1: \n",
    "        return ['A', 'T', 'G', 'C'] \n",
    "    else: \n",
    "        result = [] \n",
    "        for seq in generate_primers(length - 1): \n",
    "            for base in ['A', 'T', 'G', 'C']: \n",
    "                result.append(seq + base) \n",
    "        return result "
   ]
  },
  {
   "cell_type": "code",
   "execution_count": 10,
   "metadata": {
    "collapsed": false
   },
   "outputs": [
    {
     "data": {
      "text/plain": [
       "['AA',\n",
       " 'AT',\n",
       " 'AG',\n",
       " 'AC',\n",
       " 'TA',\n",
       " 'TT',\n",
       " 'TG',\n",
       " 'TC',\n",
       " 'GA',\n",
       " 'GT',\n",
       " 'GG',\n",
       " 'GC',\n",
       " 'CA',\n",
       " 'CT',\n",
       " 'CG',\n",
       " 'CC']"
      ]
     },
     "execution_count": 10,
     "metadata": {},
     "output_type": "execute_result"
    }
   ],
   "source": [
    "generate_primers(2)"
   ]
  },
  {
   "cell_type": "code",
   "execution_count": 11,
   "metadata": {
    "collapsed": false
   },
   "outputs": [
    {
     "data": {
      "text/plain": [
       "['AAA',\n",
       " 'AAT',\n",
       " 'AAG',\n",
       " 'AAC',\n",
       " 'ATA',\n",
       " 'ATT',\n",
       " 'ATG',\n",
       " 'ATC',\n",
       " 'AGA',\n",
       " 'AGT',\n",
       " 'AGG',\n",
       " 'AGC',\n",
       " 'ACA',\n",
       " 'ACT',\n",
       " 'ACG',\n",
       " 'ACC',\n",
       " 'TAA',\n",
       " 'TAT',\n",
       " 'TAG',\n",
       " 'TAC',\n",
       " 'TTA',\n",
       " 'TTT',\n",
       " 'TTG',\n",
       " 'TTC',\n",
       " 'TGA',\n",
       " 'TGT',\n",
       " 'TGG',\n",
       " 'TGC',\n",
       " 'TCA',\n",
       " 'TCT',\n",
       " 'TCG',\n",
       " 'TCC',\n",
       " 'GAA',\n",
       " 'GAT',\n",
       " 'GAG',\n",
       " 'GAC',\n",
       " 'GTA',\n",
       " 'GTT',\n",
       " 'GTG',\n",
       " 'GTC',\n",
       " 'GGA',\n",
       " 'GGT',\n",
       " 'GGG',\n",
       " 'GGC',\n",
       " 'GCA',\n",
       " 'GCT',\n",
       " 'GCG',\n",
       " 'GCC',\n",
       " 'CAA',\n",
       " 'CAT',\n",
       " 'CAG',\n",
       " 'CAC',\n",
       " 'CTA',\n",
       " 'CTT',\n",
       " 'CTG',\n",
       " 'CTC',\n",
       " 'CGA',\n",
       " 'CGT',\n",
       " 'CGG',\n",
       " 'CGC',\n",
       " 'CCA',\n",
       " 'CCT',\n",
       " 'CCG',\n",
       " 'CCC']"
      ]
     },
     "execution_count": 11,
     "metadata": {},
     "output_type": "execute_result"
    }
   ],
   "source": [
    "generate_primers(3)"
   ]
  },
  {
   "cell_type": "markdown",
   "metadata": {},
   "source": [
    "We can rewrite the function as a generator; just change `yield` inside the loop instead of `returning` outside it:"
   ]
  },
  {
   "cell_type": "code",
   "execution_count": 27,
   "metadata": {
    "collapsed": false
   },
   "outputs": [
    {
     "data": {
      "text/plain": [
       "<generator object generate_primers at 0x7fa3181306e0>"
      ]
     },
     "execution_count": 27,
     "metadata": {},
     "output_type": "execute_result"
    }
   ],
   "source": [
    "def generate_primers(length): \n",
    "    if length == 1: \n",
    "        for base in ['A', 'T', 'G', 'C']: \n",
    "            yield(base) \n",
    "    else: \n",
    "        for seq in generate_primers(length - 1): \n",
    "            for base in ['A', 'T', 'G', 'C']: \n",
    "                yield(seq+base) \n",
    "                \n",
    "p = generate_primers(5)\n",
    "p"
   ]
  },
  {
   "cell_type": "markdown",
   "metadata": {},
   "source": [
    "The result is a generator object, which we can iterate over:"
   ]
  },
  {
   "cell_type": "code",
   "execution_count": 26,
   "metadata": {
    "collapsed": false
   },
   "outputs": [
    {
     "name": "stdout",
     "output_type": "stream",
     "text": [
      "AAAAA\n",
      "AAAAT\n",
      "AAAAG\n",
      "AAAAC\n",
      "AAATA\n",
      "AAATT\n",
      "AAATG\n",
      "AAATC\n",
      "AAAGA\n",
      "AAAGT\n"
     ]
    }
   ],
   "source": [
    "i = 0\n",
    "for primer in p:\n",
    "    if i < 10:\n",
    "        print(primer)   \n",
    "    i = i + 1"
   ]
  },
  {
   "cell_type": "markdown",
   "metadata": {},
   "source": [
    "and we can use the same trick to generate pairs:"
   ]
  },
  {
   "cell_type": "code",
   "execution_count": 37,
   "metadata": {
    "collapsed": true
   },
   "outputs": [],
   "source": [
    "def generate_pairs(length): \n",
    "    for forward in generate_primers(length): \n",
    "        for reverse in generate_primers(length): \n",
    "            yield(forward, reverse) \n",
    "\n",
    "        "
   ]
  },
  {
   "cell_type": "markdown",
   "metadata": {},
   "source": [
    "Again, we can iterate over the result of calling this function to find pairs matching particular criteria e.g. "
   ]
  },
  {
   "cell_type": "code",
   "execution_count": 40,
   "metadata": {
    "collapsed": false
   },
   "outputs": [
    {
     "name": "stdout",
     "output_type": "stream",
     "text": [
      "('AAGTG', 'ATCAT')\n",
      "('AAGTG', 'TTCAT')\n",
      "('AAGTG', 'TCATA')\n",
      "('AAGTG', 'TCATT')\n",
      "('AAGTG', 'TCATG')\n",
      "('AAGTG', 'TCATC')\n",
      "('AAGTG', 'GTCAT')\n",
      "('AAGTG', 'CTCAT')\n",
      "('AGTGA', 'ATCAT')\n",
      "('AGTGA', 'TTCAT')\n",
      "('AGTGA', 'TCATA')\n",
      "('AGTGA', 'TCATT')\n",
      "('AGTGA', 'TCATG')\n",
      "('AGTGA', 'TCATC')\n",
      "('AGTGA', 'GTCAT')\n",
      "('AGTGA', 'CTCAT')\n",
      "('AGTGT', 'ATCAT')\n",
      "('AGTGT', 'TTCAT')\n",
      "('AGTGT', 'TCATA')\n",
      "('AGTGT', 'TCATT')\n",
      "('AGTGT', 'TCATG')\n",
      "('AGTGT', 'TCATC')\n",
      "('AGTGT', 'GTCAT')\n",
      "('AGTGT', 'CTCAT')\n",
      "('AGTGG', 'ATCAT')\n",
      "('AGTGG', 'TTCAT')\n",
      "('AGTGG', 'TCATA')\n",
      "('AGTGG', 'TCATT')\n",
      "('AGTGG', 'TCATG')\n",
      "('AGTGG', 'TCATC')\n",
      "('AGTGG', 'GTCAT')\n",
      "('AGTGG', 'CTCAT')\n",
      "('AGTGC', 'ATCAT')\n",
      "('AGTGC', 'TTCAT')\n",
      "('AGTGC', 'TCATA')\n",
      "('AGTGC', 'TCATT')\n",
      "('AGTGC', 'TCATG')\n",
      "('AGTGC', 'TCATC')\n",
      "('AGTGC', 'GTCAT')\n",
      "('AGTGC', 'CTCAT')\n",
      "('TAGTG', 'ATCAT')\n",
      "('TAGTG', 'TTCAT')\n",
      "('TAGTG', 'TCATA')\n",
      "('TAGTG', 'TCATT')\n",
      "('TAGTG', 'TCATG')\n",
      "('TAGTG', 'TCATC')\n",
      "('TAGTG', 'GTCAT')\n",
      "('TAGTG', 'CTCAT')\n",
      "('GAGTG', 'ATCAT')\n",
      "('GAGTG', 'TTCAT')\n",
      "('GAGTG', 'TCATA')\n",
      "('GAGTG', 'TCATT')\n",
      "('GAGTG', 'TCATG')\n",
      "('GAGTG', 'TCATC')\n",
      "('GAGTG', 'GTCAT')\n",
      "('GAGTG', 'CTCAT')\n",
      "('CAGTG', 'ATCAT')\n",
      "('CAGTG', 'TTCAT')\n",
      "('CAGTG', 'TCATA')\n",
      "('CAGTG', 'TCATT')\n",
      "('CAGTG', 'TCATG')\n",
      "('CAGTG', 'TCATC')\n",
      "('CAGTG', 'GTCAT')\n",
      "('CAGTG', 'CTCAT')\n"
     ]
    }
   ],
   "source": [
    "for forward, reverse in generate_pairs(5):\n",
    "    if 'AGTG' in forward and 'TCAT' in reverse:\n",
    "        print(forward, reverse)"
   ]
  },
  {
   "cell_type": "code",
   "execution_count": null,
   "metadata": {
    "collapsed": true
   },
   "outputs": [],
   "source": []
  },
  {
   "cell_type": "code",
   "execution_count": null,
   "metadata": {
    "collapsed": true
   },
   "outputs": [],
   "source": []
  },
  {
   "cell_type": "code",
   "execution_count": null,
   "metadata": {
    "collapsed": true
   },
   "outputs": [],
   "source": []
  },
  {
   "cell_type": "code",
   "execution_count": 3,
   "metadata": {
    "collapsed": false
   },
   "outputs": [
    {
     "data": {
      "application/javascript": [
       "\n",
       "function regentoc() {\n",
       "    document.getElementById(\"toc\").innerHTML = \"\";\n",
       "    var currenth2 = 0;\n",
       "    $(\"h2,h3\").not(\"#Contents\").each(function(mainIndex) {\n",
       "        el = $(this);\n",
       "        title = el.attr(\"id\");\n",
       "        text = el.html();\n",
       "        link = \"#\" + el.attr(\"id\");\n",
       "        if ( document.getElementById(title).tagName == \"H2\" ) {\n",
       "            currenth2 += 1;\n",
       "            newLine =\n",
       "                \"<li class='maintoc'>\" +\n",
       "                   \"<a href='\" + link + \"'>\" + text + \"</a>\" +\n",
       "                \"</li>\" +\n",
       "                \"<ul id='h2\" + currenth2 + \"'></ul>\";\n",
       "            document.getElementById(\"toc\").innerHTML += newLine;\n",
       "        } else if ( document.getElementById(title).tagName==\"H3\" ) {\n",
       "            h1list = document.getElementById(\"h2\"+currenth2);\n",
       "            newLine = \"<li class='subtoc'>\" + \"<a href='\" + link + \"'>\" + text + \"</a>\" + \"</li>\";\n",
       "            h1list.innerHTML += newLine;\n",
       "        }\n",
       "    });\n",
       "}\n",
       " \n",
       "setInterval(regentoc,1000);\n"
      ],
      "text/plain": [
       "<IPython.core.display.Javascript object>"
      ]
     },
     "execution_count": 3,
     "metadata": {},
     "output_type": "execute_result"
    }
   ],
   "source": [
    "# ignore this cell, it's for loading custom js code\n",
    "from IPython.core.display import Javascript\n",
    "Javascript(filename=\"custom.js\")"
   ]
  },
  {
   "cell_type": "code",
   "execution_count": 4,
   "metadata": {
    "collapsed": false
   },
   "outputs": [
    {
     "data": {
      "text/html": [
       "<style>\n",
       "div.output_text{\n",
       "        max-height:400px;\n",
       "        overflow:scroll;\n",
       "}\n",
       "\n",
       "div#notebook {\n",
       "  font-family: 'PT Serif' !important;\n",
       "} \n",
       "\n",
       "div.CodeMirror, div.output_area pre, div.output_wrapper, div.prompt {\n",
       "  font-family: 'Source Code Pro', monospace !important;\n",
       "}\n",
       "\n",
       ".output_text {\n",
       "  background-color: #f0f0f0;\n",
       "}\n",
       "\n",
       "\n",
       ".prompt { display: none; }\n",
       "div.output_subarea { max-width: calc(100%); }\n",
       "</style>\n",
       "\n"
      ],
      "text/plain": [
       "<IPython.core.display.HTML object>"
      ]
     },
     "execution_count": 4,
     "metadata": {},
     "output_type": "execute_result"
    }
   ],
   "source": [
    "# ignore this cell, it's for loading custom css code\n",
    "from IPython.core.display import HTML\n",
    "HTML(filename=\"custom.css\")"
   ]
  }
 ],
 "metadata": {
  "kernelspec": {
   "display_name": "Python 2",
   "language": "python",
   "name": "python2"
  },
  "language_info": {
   "codemirror_mode": {
    "name": "ipython",
    "version": 2
   },
   "file_extension": ".py",
   "mimetype": "text/x-python",
   "name": "python",
   "nbconvert_exporter": "python",
   "pygments_lexer": "ipython2",
   "version": "2.7.6"
  }
 },
 "nbformat": 4,
 "nbformat_minor": 0
}
