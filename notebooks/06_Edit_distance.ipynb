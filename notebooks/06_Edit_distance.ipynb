{
 "cells": [
  {
   "cell_type": "markdown",
   "metadata": {},
   "source": [
    "# Edit distance and dynamic programming"
   ]
  },
  {
   "cell_type": "markdown",
   "metadata": {},
   "source": [
    "# Hamming distance"
   ]
  },
  {
   "cell_type": "markdown",
   "metadata": {},
   "source": [
    "Simple implementation of Hamming distance. Function takes two strings, and returns Hamming distance between the stgings.\n",
    "\n",
    "**assert** statement in Python halts the execution of the function if condition is not met. Since Hamming distance can be defined only for strings of equal lenght, we're using the assert statement to check if strings are the same length."
   ]
  },
  {
   "cell_type": "code",
   "execution_count": 1,
   "metadata": {
    "collapsed": true
   },
   "outputs": [],
   "source": [
    "#simple implementation of Hamming distance between two strings\n",
    "\n",
    "def hammingDistance(x,y):\n",
    "    assert len(x) == len(y)\n",
    "    hm =0\n",
    "    for i in range(len(x)):\n",
    "        if x[i]!=y[i]:\n",
    "            hm+=1\n",
    "    return hm\n",
    "            "
   ]
  },
  {
   "cell_type": "code",
   "execution_count": 2,
   "metadata": {},
   "outputs": [
    {
     "data": {
      "text/plain": [
       "1"
      ]
     },
     "execution_count": 2,
     "metadata": {},
     "output_type": "execute_result"
    }
   ],
   "source": [
    "hammingDistance('asa', 'aba')"
   ]
  },
  {
   "cell_type": "markdown",
   "metadata": {},
   "source": [
    "This is slight modification of hammingDistance fucntion, in order to be able to process two stings of non-equal lenght"
   ]
  },
  {
   "cell_type": "code",
   "execution_count": 3,
   "metadata": {
    "collapsed": true
   },
   "outputs": [],
   "source": [
    "#for x, y of non-equal size\n",
    "def modHammingDistance(x,y):\n",
    "    delta = abs(len(x)-len(y))\n",
    "    hm =0\n",
    "    minlen = min(len(x), len(y))\n",
    "    hm = hammingDistance(x[:minlen], y[:minlen])\n",
    "    return(hm+delta)"
   ]
  },
  {
   "cell_type": "code",
   "execution_count": 4,
   "metadata": {},
   "outputs": [
    {
     "data": {
      "text/plain": [
       "1"
      ]
     },
     "execution_count": 4,
     "metadata": {},
     "output_type": "execute_result"
    }
   ],
   "source": [
    "modHammingDistance('ab', 'aba')"
   ]
  },
  {
   "cell_type": "markdown",
   "metadata": {},
   "source": [
    "What is the lower and upper bound on edit distance between x and y? Bellow is the function which calculates"
   ]
  },
  {
   "cell_type": "code",
   "execution_count": 5,
   "metadata": {
    "collapsed": true
   },
   "outputs": [],
   "source": [
    "def boundEditDistance(x, y):\n",
    "    if x==y: return 0,0\n",
    "    if len(x)==0: return len(y), len(y)\n",
    "    if len(y)==0: return len(x), len(x)\n",
    "    delta = abs(len(x)-len(y))\n",
    "    lower = delta\n",
    "    if lower==0 and x!=y:\n",
    "        lower=1\n",
    "    minlen = min(len(x), len(y))\n",
    "    upper = hammingDistance(x[:minlen], y[:minlen]) + delta\n",
    "    return lower, upper"
   ]
  },
  {
   "cell_type": "code",
   "execution_count": 6,
   "metadata": {},
   "outputs": [
    {
     "data": {
      "text/plain": [
       "(2, 3)"
      ]
     },
     "execution_count": 6,
     "metadata": {},
     "output_type": "execute_result"
    }
   ],
   "source": [
    "boundEditDistance('create', 'creation')"
   ]
  },
  {
   "cell_type": "markdown",
   "metadata": {},
   "source": [
    "# Edit distance"
   ]
  },
  {
   "cell_type": "markdown",
   "metadata": {},
   "source": [
    "Edit distance is defined by reccurence relation: \n",
    "> **D(i,j)=min [D(i-1,j)+1, D(i, j-1)+1, D(i-1,j-1)+𝛿(i,j)]**\n",
    "\n",
    "and base conditions\n",
    ">**D(i, 0)=i**\n",
    "\n",
    ">**D(0,j)=j.**"
   ]
  },
  {
   "cell_type": "markdown",
   "metadata": {},
   "source": [
    "We will first try to implement edit distance as recurence relation."
   ]
  },
  {
   "cell_type": "code",
   "execution_count": 7,
   "metadata": {
    "collapsed": true
   },
   "outputs": [],
   "source": [
    "def editDistance(x,y):\n",
    "    if len(x)==0: return len(y)\n",
    "    if len(y)==0: return len(x)\n",
    "    \n",
    "    delta = 0;\n",
    "    if x[-1:]==y[-1:]:\n",
    "        delta = 0\n",
    "    else:\n",
    "        delta = 1\n",
    "    \n",
    "    D = editDistance(x[:-1],y) + 1\n",
    "    I = editDistance(x,y[:-1]) + 1\n",
    "    M = editDistance(x[:-1],y[:-1]) + delta\n",
    "    \n",
    "    return(min(D, I, M))"
   ]
  },
  {
   "cell_type": "code",
   "execution_count": 8,
   "metadata": {},
   "outputs": [
    {
     "data": {
      "text/plain": [
       "0"
      ]
     },
     "execution_count": 8,
     "metadata": {},
     "output_type": "execute_result"
    }
   ],
   "source": [
    "editDistance('xxxx','xxxx')"
   ]
  },
  {
   "cell_type": "code",
   "execution_count": 9,
   "metadata": {},
   "outputs": [
    {
     "data": {
      "text/plain": [
       "1"
      ]
     },
     "execution_count": 9,
     "metadata": {},
     "output_type": "execute_result"
    }
   ],
   "source": [
    "editDistance('baba','zaba')"
   ]
  },
  {
   "cell_type": "markdown",
   "metadata": {},
   "source": [
    "We do know that recursions take time (and space!). Let's try to measure how much time. We're going to use jupyters magic function - **timeit**."
   ]
  },
  {
   "cell_type": "code",
   "execution_count": 10,
   "metadata": {},
   "outputs": [
    {
     "name": "stdout",
     "output_type": "stream",
     "text": [
      "10000 loops, best of 3: 35.4 µs per loop\n"
     ]
    }
   ],
   "source": [
    "%%timeit \n",
    "editDistance('xx','xxxx')"
   ]
  },
  {
   "cell_type": "code",
   "execution_count": 11,
   "metadata": {},
   "outputs": [
    {
     "name": "stdout",
     "output_type": "stream",
     "text": [
      "1 loop, best of 3: 530 ms per loop\n"
     ]
    }
   ],
   "source": [
    "%%timeit \n",
    "editDistance('123456789','12345678')"
   ]
  },
  {
   "cell_type": "markdown",
   "metadata": {},
   "source": [
    "We can see in above example how time drastically increases with small increase in string length. Since genomic data is quite large, implementing eddit distance as reccurence relation might not be so convenient. Let's try to speed it up."
   ]
  },
  {
   "cell_type": "markdown",
   "metadata": {},
   "source": [
    "Bellow is **memoEditDistance**. It's the implementation of editDistance with memoization added. When we call recurence relation on set of inputs, we memoize the result. If it happens that reccurence relation is called again with parameters we've meoized, we can skip execution and use memoized value.\n",
    "\n",
    "In the implementation, we don't even have to memoize the exact inputs, since are top-level inputs don't change durring execution we only need to rembember if we have called reccurence relation with same input string lengths for X and Y."
   ]
  },
  {
   "cell_type": "code",
   "execution_count": 12,
   "metadata": {
    "collapsed": true
   },
   "outputs": [],
   "source": [
    "def memoEditDistance(x,y, memo = None):\n",
    "    if memo is None: memo = {}\n",
    "    if len(x)==0: return len(y)\n",
    "    if len(y)==0: return len(x)\n",
    "    \n",
    "    #we check if we have memoized this\n",
    "    if (len(x), len(y)) in memo:\n",
    "        return memo[(len(x), len(y))]\n",
    "    \n",
    "    delta = 0 if x[-1:]==y[-1:] else 1\n",
    "    D = memoEditDistance(x[:-1],y, memo) + 1\n",
    "    I = memoEditDistance(x,y[:-1], memo) + 1\n",
    "    M = memoEditDistance(x[:-1],y[:-1], memo) + delta\n",
    "    \n",
    "    dist = min(D, I, M)\n",
    "    \n",
    "    # we add edit distance value to memoization list\n",
    "    memo[(len(x), len(y))] = dist\n",
    "    \n",
    "    return dist"
   ]
  },
  {
   "cell_type": "markdown",
   "metadata": {},
   "source": [
    "Let's use timeit again on same inputs as above. We can see significant improvement in speed. But, for genome-scale aplications, this is still not good enough."
   ]
  },
  {
   "cell_type": "code",
   "execution_count": 13,
   "metadata": {},
   "outputs": [
    {
     "name": "stdout",
     "output_type": "stream",
     "text": [
      "1000 loops, best of 3: 234 µs per loop\n"
     ]
    }
   ],
   "source": [
    "%%timeit\n",
    "memoEditDistance('123456789','12345678')"
   ]
  },
  {
   "cell_type": "code",
   "execution_count": 14,
   "metadata": {},
   "outputs": [
    {
     "name": "stdout",
     "output_type": "stream",
     "text": [
      "1000 loops, best of 3: 471 µs per loop\n"
     ]
    }
   ],
   "source": [
    "%%timeit\n",
    "memoEditDistance('GCGTATGCACGC','GCTATGCCACGC')"
   ]
  },
  {
   "cell_type": "markdown",
   "metadata": {
    "collapsed": true
   },
   "source": [
    "# Edit distance - Dynamic programming approach"
   ]
  },
  {
   "cell_type": "markdown",
   "metadata": {},
   "source": [
    "Here we will use bottom-up, instead of top-down approach above. Bottom down approach consist of tabular comutation via reccurence relation and traceback. "
   ]
  },
  {
   "cell_type": "markdown",
   "metadata": {},
   "source": [
    "### Tabular computation"
   ]
  },
  {
   "cell_type": "markdown",
   "metadata": {},
   "source": [
    "First let's do tabulat computation. Value of each cell in the table is calculated by using recurence relation. In this case, we can easily obtain D[i-1,j] D[i, j-1], D[i-1, j-1] because their values are stored one cell up, left or diagonal from the cell which value we are computing."
   ]
  },
  {
   "cell_type": "markdown",
   "metadata": {},
   "source": [
    "We rembember that base conditions for tabular conditions are:\n",
    ">**D(i, 0)=i**\n",
    "\n",
    ">**D(0,j)=j.**"
   ]
  },
  {
   "cell_type": "markdown",
   "metadata": {},
   "source": [
    "Edit distance value is stored in lower-right corner - cell (n,m). "
   ]
  },
  {
   "cell_type": "markdown",
   "metadata": {},
   "source": [
    "Write python function which takes two strngs and returns edit distance (while we're there we're allso print out the matrix)."
   ]
  },
  {
   "cell_type": "markdown",
   "metadata": {},
   "source": [
    "Here we will use pythons **numphy** module. We will use numpy arrays since they are rather fast and suitable for processing of larger-scale data."
   ]
  },
  {
   "cell_type": "code",
   "execution_count": 15,
   "metadata": {
    "collapsed": true
   },
   "outputs": [],
   "source": [
    "import numpy\n",
    "def edDistDP(x,y):\n",
    "    \n",
    "    # here we initialize first row and first collumn with base conditions.\n",
    "    D=numpy.zeros((len(x)+1, len(y)+1), dtype=int)\n",
    "    D[1:,0]=range(1,len(x)+1)\n",
    "    D[0,1:]=range(1,len(y)+1)\n",
    "    \n",
    "    \n",
    "    #then we fill out the table\n",
    "    for i in range(1,len(x)+1):\n",
    "        for j in range(1,len(y)+1):\n",
    "            sigma = 1 if x[i-1]!=y[j-1] else 0\n",
    "            D[i,j]=min(D[i-1,j]+1, D[i,j-1]+1, D[i-1, j-1] + sigma)\n",
    "    #print(D)\n",
    "    \n",
    "    #edit distance is value in the lower right cell of the distance matrix\n",
    "    return (D[len(x), len(y)])"
   ]
  },
  {
   "cell_type": "code",
   "execution_count": 16,
   "metadata": {},
   "outputs": [
    {
     "data": {
      "text/plain": [
       "2"
      ]
     },
     "execution_count": 16,
     "metadata": {},
     "output_type": "execute_result"
    }
   ],
   "source": [
    "edDistDP('GCGTATGCACGC','GCTATGCCACGC')"
   ]
  },
  {
   "cell_type": "markdown",
   "metadata": {},
   "source": [
    "### Tracebak"
   ]
  },
  {
   "cell_type": "markdown",
   "metadata": {
    "collapsed": true
   },
   "source": [
    "We would also need to retreive edit transcript. In order to do this we need either to backtrace pointers or to infer our way back.\n",
    "\n",
    "Originaly, we should set pointer during computation of the table. Pointer to cell (i,j) should be set to poin to cell from which the value of the cell(i,j) was computed. \n",
    "\n",
    "Since in python we don't use pointer representation, we'll infer our way back by looking to the neigbour cells (D[i-1,j], D[i,j-1], D[i-1,j-1]) and deducing from which of these cells we've came to our current cell. That is which predecessor gave the minimum.\n",
    "\n",
    "We do so by taking values of each these cells and recalculating the scores of moving from one of the cells to our current cell. Them we move to the cell with best (in case of edit distance - minimal) score. If we have several cells which have the same score, in this implementation we're prefering match/replace to insertion and insertion to deletion.\n",
    "We record our movement back in order to obtain edit transcript.\n"
   ]
  },
  {
   "cell_type": "markdown",
   "metadata": {},
   "source": [
    "**Edit transcript**\n",
    "\n",
    "If we set reference string (x) on vertical axis and read we are comparing on horizontal axis, then:\n",
    ">each horizontal movement can be interpreted as insertion - **I**\n",
    "\n",
    ">each vertical movement can be interpreted as deletion - **D**\n",
    "\n",
    ">each diagonal movement can be match or replacement - **M** or **R**\n",
    "\n",
    "\n",
    "As we do backtrace we append edit operations to transcript string. Since edit trascript represents all edit operations moving from string start to string end, and backtrace is done going from ends to begingnning of strings, we need to revert the string we've got appending edit operations during backtrace."
   ]
  },
  {
   "cell_type": "code",
   "execution_count": 17,
   "metadata": {
    "collapsed": true
   },
   "outputs": [],
   "source": [
    "def getTranscript(D,x,y):\n",
    "    t=''\n",
    "    i=len(x)\n",
    "    j=len(y)\n",
    "    while(i!=0 and j!=0):\n",
    "        sigma = 1 if x[i-1]!=y[j-1] else 0\n",
    "        Del=D[i-1,j]+1\n",
    "        I=D[i,j-1]+1\n",
    "        M=D[i-1, j-1]+sigma\n",
    "        \n",
    "        # diagonal was the best\n",
    "        if M<=I and M <=Del:\n",
    "            # for diagonal we check wether characters on that position were the same of different\n",
    "            # based on that we add M (match) or R (replacement) edit operation\n",
    "            t+='M' if sigma == 0 else 'R'\n",
    "            i=i-1\n",
    "            j=j-1\n",
    "            \n",
    "        # horizonatl was the best\n",
    "        elif I<=Del:\n",
    "            t+='I'\n",
    "            j=j-1\n",
    "            \n",
    "        # diagonal was the best\n",
    "        else:\n",
    "            t+='D'\n",
    "            i=i-1\n",
    "            \n",
    "    # we revert string in order to get edit transcript\n",
    "    return(t[::-1])"
   ]
  },
  {
   "cell_type": "markdown",
   "metadata": {
    "collapsed": true
   },
   "source": [
    "Now we just add call for retreiving transcript:"
   ]
  },
  {
   "cell_type": "code",
   "execution_count": 18,
   "metadata": {
    "collapsed": true
   },
   "outputs": [],
   "source": [
    "import numpy\n",
    "def edDistDP(x,y):\n",
    "    \n",
    "    # here we initialize first row and first collumn with base conditions.\n",
    "    D=numpy.zeros((len(x)+1, len(y)+1), dtype=int)\n",
    "    D[1:,0]=range(1,len(x)+1)\n",
    "    D[0,1:]=range(1,len(y)+1)\n",
    "     \n",
    "    #then we fill out the table\n",
    "    for i in range(1,len(x)+1):\n",
    "        for j in range(1,len(y)+1):\n",
    "            sigma = 1 if x[i-1]!=y[j-1] else 0\n",
    "            D[i,j]=min(D[i-1,j]+1, \n",
    "                       D[i,j-1]+1, \n",
    "                       D[i-1, j-1] + sigma)\n",
    "    print(D)\n",
    "    #edit distance is value in the lower right cell of the distance matrix\n",
    "    t = getTranscript(D,x,y)\n",
    "    return (t, D[len(x), len(y)])"
   ]
  },
  {
   "cell_type": "markdown",
   "metadata": {},
   "source": [
    "This way we get both edit distance and edit transcript."
   ]
  },
  {
   "cell_type": "code",
   "execution_count": 19,
   "metadata": {},
   "outputs": [
    {
     "name": "stdout",
     "output_type": "stream",
     "text": [
      "[[ 0  1  2  3  4  5  6  7  8  9 10 11 12]\n",
      " [ 1  0  1  2  3  4  5  6  7  8  9 10 11]\n",
      " [ 2  1  0  1  2  3  4  5  6  7  8  9 10]\n",
      " [ 3  2  1  1  2  3  3  4  5  6  7  8  9]\n",
      " [ 4  3  2  1  2  2  3  4  5  6  7  8  9]\n",
      " [ 5  4  3  2  1  2  3  4  5  5  6  7  8]\n",
      " [ 6  5  4  3  2  1  2  3  4  5  6  7  8]\n",
      " [ 7  6  5  4  3  2  1  2  3  4  5  6  7]\n",
      " [ 8  7  6  5  4  3  2  1  2  3  4  5  6]\n",
      " [ 9  8  7  6  5  4  3  2  2  2  3  4  5]\n",
      " [10  9  8  7  6  5  4  3  2  3  2  3  4]\n",
      " [11 10  9  8  7  6  5  4  3  3  3  2  3]\n",
      " [12 11 10  9  8  7  6  5  4  4  3  3  2]]\n"
     ]
    },
    {
     "data": {
      "text/plain": [
       "('MMDMMMMIMMMMM', 2)"
      ]
     },
     "execution_count": 19,
     "metadata": {},
     "output_type": "execute_result"
    }
   ],
   "source": [
    "edDistDP('GCGTATGCACGC','GCTATGCCACGC')"
   ]
  },
  {
   "cell_type": "code",
   "execution_count": 20,
   "metadata": {},
   "outputs": [
    {
     "name": "stdout",
     "output_type": "stream",
     "text": [
      "[[ 0  1  2  3  4  5  6  7  8  9 10 11]\n",
      " [ 1  0  1  2  3  4  5  6  7  8  9 10]\n",
      " [ 2  1  0  1  2  3  4  5  6  7  8  9]\n",
      " [ 3  2  1  0  1  2  3  4  5  6  7  8]\n",
      " [ 4  3  2  1  1  1  2  3  4  5  6  7]\n",
      " [ 5  4  3  2  1  2  2  3  4  5  6  7]\n",
      " [ 6  5  4  3  2  2  3  2  3  4  5  6]\n",
      " [ 7  6  5  4  3  2  3  3  2  3  4  5]\n",
      " [ 8  7  6  5  4  3  2  3  3  2  3  4]\n",
      " [ 9  8  7  6  5  4  3  3  3  3  2  3]\n",
      " [10  9  8  7  6  5  4  4  3  4  3  3]\n",
      " [11 10  9  8  7  6  5  5  4  3  4  3]]\n"
     ]
    },
    {
     "data": {
      "text/plain": [
       "('MMIMMRMMMDMM', 3)"
      ]
     },
     "execution_count": 20,
     "metadata": {},
     "output_type": "execute_result"
    }
   ],
   "source": [
    "edDistDP('TAGAGCATAAT','TAGGATCATAT')"
   ]
  },
  {
   "cell_type": "code",
   "execution_count": 24,
   "metadata": {},
   "outputs": [
    {
     "name": "stdout",
     "output_type": "stream",
     "text": [
      "[[0 1 2 3 4]\n",
      " [1 0 1 2 3]\n",
      " [2 1 0 1 2]\n",
      " [3 2 1 0 1]\n",
      " [4 3 2 1 1]\n",
      " [5 4 3 2 1]]\n"
     ]
    },
    {
     "data": {
      "text/plain": [
       "('MMMDM', 1)"
      ]
     },
     "execution_count": 24,
     "metadata": {},
     "output_type": "execute_result"
    }
   ],
   "source": [
    "edDistDP('TAGAG','TAGG')"
   ]
  },
  {
   "cell_type": "code",
   "execution_count": null,
   "metadata": {
    "collapsed": true
   },
   "outputs": [],
   "source": []
  }
 ],
 "metadata": {
  "kernelspec": {
   "display_name": "Python 3",
   "language": "python",
   "name": "python3"
  },
  "language_info": {
   "codemirror_mode": {
    "name": "ipython",
    "version": 3
   },
   "file_extension": ".py",
   "mimetype": "text/x-python",
   "name": "python",
   "nbconvert_exporter": "python",
   "pygments_lexer": "ipython3",
   "version": "3.6.1"
  }
 },
 "nbformat": 4,
 "nbformat_minor": 2
}
